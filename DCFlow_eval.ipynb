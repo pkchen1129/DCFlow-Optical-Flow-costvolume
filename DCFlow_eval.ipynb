{
  "nbformat": 4,
  "nbformat_minor": 0,
  "metadata": {
    "colab": {
      "name": "DCFlow_eval.ipynb",
      "provenance": [],
      "collapsed_sections": [],
      "toc_visible": true,
      "machine_shape": "hm"
    },
    "kernelspec": {
      "name": "python3",
      "display_name": "Python 3"
    },
    "accelerator": "GPU"
  },
  "cells": [
    {
      "cell_type": "markdown",
      "metadata": {
        "id": "DizrII1Y2lRK",
        "colab_type": "text"
      },
      "source": [
        "#Winter 2020 EECS 504 Computer Vision Final Project Optical Flow\n",
        "\n",
        "\n",
        "Authors: \\\\\n",
        "Yen-Ning Tai, tyenning\n",
        "\n",
        "Hsuan-Cheng Chen, hsuancc\n",
        "\n",
        "Po-Kang Chen, pkchen"
      ]
    },
    {
      "cell_type": "markdown",
      "metadata": {
        "id": "o1pbCZ5UYRC_",
        "colab_type": "text"
      },
      "source": [
        "# Overview\n",
        "\n",
        "We present an optical flow estimation algorithm described in [DcFlow](http://pages.cs.wisc.edu/~jiaxu/dcflow/). \\\\\n",
        "The project can be divided into two part. \\\\\n",
        "The first part describes how to generate feature embedding via a  convolutional neural network. \\\\\n",
        "The  second  part  ishow the 4-dimensional cost volume can be efficiently con-structed and stored using the embedding.  \n",
        "We conduct experiments on Sintel benchmark to evaluate the cost volumewith a winner-take-all matching algorithm. \\\\\n",
        "We also showthat adding a normalization layer to the CNN model out-performs the original model."
      ]
    },
    {
      "cell_type": "markdown",
      "metadata": {
        "id": "HgjobmCoyW3r",
        "colab_type": "text"
      },
      "source": [
        "#Mount Drive\n"
      ]
    },
    {
      "cell_type": "code",
      "metadata": {
        "id": "aVwQ2HK2unYB",
        "colab_type": "code",
        "outputId": "e92187d7-19dc-4a13-b7fb-5e27206e4cf0",
        "colab": {
          "base_uri": "https://localhost:8080/",
          "height": 33
        }
      },
      "source": [
        "from google.colab import drive\n",
        "drive.mount('/content/drive')"
      ],
      "execution_count": 0,
      "outputs": [
        {
          "output_type": "stream",
          "text": [
            "Drive already mounted at /content/drive; to attempt to forcibly remount, call drive.mount(\"/content/drive\", force_remount=True).\n"
          ],
          "name": "stdout"
        }
      ]
    },
    {
      "cell_type": "markdown",
      "metadata": {
        "colab_type": "text",
        "id": "KDRThYDqPcH4"
      },
      "source": [
        "# Starting\n",
        "\n"
      ]
    },
    {
      "cell_type": "code",
      "metadata": {
        "colab_type": "code",
        "id": "SHumIO-xt57H",
        "outputId": "fea8d052-6df2-4a30-fb3e-744236f59b73",
        "colab": {
          "base_uri": "https://localhost:8080/",
          "height": 67
        }
      },
      "source": [
        "import pickle\n",
        "import numpy as np\n",
        "import matplotlib.pyplot as plt\n",
        "import os\n",
        "import copy\n",
        "from PIL import Image\n",
        "from torchsummary import summary\n",
        "import torch\n",
        "import torchvision\n",
        "from torch.utils.data import Dataset, DataLoader\n",
        "from torchvision import datasets, models, transforms\n",
        "import torch.nn as nn\n",
        "import torch.nn.functional as F\n",
        "import torch.optim as optim\n",
        "import csv\n",
        "import random\n",
        "import tqdm\n",
        "from tqdm import tqdm_notebook\n",
        "print(\"PyTorch Version: \",torch.__version__)\n",
        "print(\"Torchvision Version: \",torchvision.__version__)\n",
        "# Detect if we have a GPU available\n",
        "device = torch.device(\"cuda:0\" if torch.cuda.is_available() else \"cpu\")\n",
        "if torch.cuda.is_available():\n",
        "    print(\"Using the GPU!\")\n",
        "else:\n",
        "    print(\"WARNING: Could not find GPU! Using CPU only. If you want to enable GPU, please to go Edit > Notebook Settings > Hardware Accelerator and select GPU.\")\n"
      ],
      "execution_count": 0,
      "outputs": [
        {
          "output_type": "stream",
          "text": [
            "PyTorch Version:  1.4.0\n",
            "Torchvision Version:  0.5.0\n",
            "Using the GPU!\n"
          ],
          "name": "stdout"
        }
      ]
    },
    {
      "cell_type": "markdown",
      "metadata": {
        "id": "syphBDrIVIQf",
        "colab_type": "text"
      },
      "source": [
        "#Net (Feature Embedding)"
      ]
    },
    {
      "cell_type": "code",
      "metadata": {
        "id": "W7qGarwysJLl",
        "colab_type": "code",
        "colab": {}
      },
      "source": [
        "#https://github.com/intel-isl/dcflow/blob/master/net/deploy.prototxt\n",
        "import torch\n",
        "import torch.nn as nn\n",
        "'''\n",
        "  Input: 9 * 9 * 3\n",
        "  Output: 9 * 9 * 64 \n",
        "'''\n",
        "def conv(in_channels, out_channels):\n",
        "    kernel_size_conv = 3\n",
        "    return nn.Sequential(\n",
        "        nn.Conv2d(in_channels, out_channels, kernel_size_conv, padding = 1),\n",
        "        nn.ReLU(inplace=True),\n",
        "    )\n",
        "\n",
        "class dcflow(nn.Module):\n",
        "\n",
        "    def __init__(self):\n",
        "        super().__init__()\n",
        "        init_modules = self.modules() #Not sure\n",
        "        # for m in init_modules:\n",
        "        #     torch.nn.init.kaiming_normal_(m.weight.data)\n",
        "        #     if m.bias is not None:\n",
        "        #         torch.nn.init.constant_(m.bias.data, 0)\n",
        "        #parameter\n",
        "        in_channel = 3 #!!!!!!!!!!!!!!!!!!!!!!!!!!!!!!!!\n",
        "        kernel_size_conv = 3\n",
        "        d_out = 64\n",
        "        \n",
        "        #Down\n",
        "        self.dconv_down1 = conv(in_channel , d_out)\n",
        "        self.dconv_down2 = conv(d_out    , d_out)\n",
        "        self.dconv_down3 = conv(d_out    , d_out)\n",
        "\n",
        "\n",
        "    def forward(self, x):\n",
        "\n",
        "        #Convdown + Maxpool each layer\n",
        "        conv1 = self.dconv_down1(x)\n",
        "        conv2 = self.dconv_down2(conv1)\n",
        "        conv3 = self.dconv_down3(conv2)\n",
        "        out = self.conv_last(conv3)\n",
        "        output = out / (torch.norm(out, dim = 1, keepdim=True) + 1e-15)\n",
        "\n",
        "\n",
        "        return output"
      ],
      "execution_count": 0,
      "outputs": []
    },
    {
      "cell_type": "code",
      "metadata": {
        "id": "jfwgpuFBtipV",
        "colab_type": "code",
        "outputId": "a61e5dea-156e-486f-f758-45428956df00",
        "colab": {
          "base_uri": "https://localhost:8080/",
          "height": 351
        }
      },
      "source": [
        "device = torch.device('cuda' if torch.cuda.is_available() else 'cpu')\n",
        "model = dcflow() \n",
        "model = model.to(device)\n",
        "# check keras-like model summary using torchsummary\n",
        "summary(model, input_size=(3, 9, 9))"
      ],
      "execution_count": 0,
      "outputs": [
        {
          "output_type": "stream",
          "text": [
            "----------------------------------------------------------------\n",
            "        Layer (type)               Output Shape         Param #\n",
            "================================================================\n",
            "            Conv2d-1             [-1, 64, 9, 9]           1,792\n",
            "              ReLU-2             [-1, 64, 9, 9]               0\n",
            "            Conv2d-3             [-1, 64, 9, 9]          36,928\n",
            "              ReLU-4             [-1, 64, 9, 9]               0\n",
            "            Conv2d-5             [-1, 64, 9, 9]          36,928\n",
            "              ReLU-6             [-1, 64, 9, 9]               0\n",
            "            Conv2d-7             [-1, 64, 9, 9]          36,928\n",
            "================================================================\n",
            "Total params: 112,576\n",
            "Trainable params: 112,576\n",
            "Non-trainable params: 0\n",
            "----------------------------------------------------------------\n",
            "Input size (MB): 0.00\n",
            "Forward/backward pass size (MB): 0.28\n",
            "Params size (MB): 0.43\n",
            "Estimated Total Size (MB): 0.71\n",
            "----------------------------------------------------------------\n"
          ],
          "name": "stdout"
        }
      ]
    },
    {
      "cell_type": "markdown",
      "metadata": {
        "id": "W_Cst4k4tuBc",
        "colab_type": "text"
      },
      "source": [
        "# Starting\n"
      ]
    },
    {
      "cell_type": "code",
      "metadata": {
        "id": "5ew8LEUHAceu",
        "colab_type": "code",
        "colab": {}
      },
      "source": [
        "%matplotlib inline\n",
        "import cv2\n",
        "import scipy.ndimage\n",
        "from scipy import signal\n",
        "import numpy as np\n",
        "import matplotlib.pyplot as plt\n",
        "from google.colab.patches import cv2_imshow\n",
        "import imageio"
      ],
      "execution_count": 0,
      "outputs": []
    },
    {
      "cell_type": "code",
      "metadata": {
        "id": "yh--2mn_CR8t",
        "colab_type": "code",
        "colab": {}
      },
      "source": [
        "%%capture\n",
        "! wget -O car1.jpg \"https://drive.google.com/uc?export=download&id=14jfYyCRSeaCe2tdvNJd6lkG6C-DWzn2s\"\n",
        "! wget -O car2.jpg \"https://drive.google.com/uc?export=download&id=1MNR0TSXPT1yxKaiOvBHforYHvd7Lr7jD\""
      ],
      "execution_count": 0,
      "outputs": []
    },
    {
      "cell_type": "code",
      "metadata": {
        "id": "Xn2XsPQ0Qi3c",
        "colab_type": "code",
        "colab": {}
      },
      "source": [
        "PATH = '/content/drive/My Drive/Weight2/dcflow_state_dict_ep10_200k_normed.pth' # choose your model\n",
        "model = dcflow()\n",
        "model = model.to(device)\n",
        "model.load_state_dict(torch.load(PATH))\n",
        "model.eval()"
      ],
      "execution_count": 0,
      "outputs": []
    },
    {
      "cell_type": "markdown",
      "metadata": {
        "id": "MoqCBuX1MiNh",
        "colab_type": "text"
      },
      "source": [
        "# Helper Function"
      ]
    },
    {
      "cell_type": "code",
      "metadata": {
        "id": "38jHGKS_zRWG",
        "colab_type": "code",
        "colab": {}
      },
      "source": [
        "def preprocess(img):\n",
        "    img = cv2.normalize(img.astype('float'), None, 0.0, 1.0, cv2.NORM_MINMAX)\n",
        "    img = cv2.resize(img, (int(img.shape[1]/3), int(img.shape[0]/3)), interpolation = cv2.INTER_CUBIC)\n",
        "    img = np.maximum(np.minimum(img, 1),0)\n",
        "    img = np.asarray(img)\n",
        "    img = torch.from_numpy(img)\n",
        "    img = img.permute(2,0,1)\n",
        "    img = img.to(device)\n",
        "    img = img.float()\n",
        "    C, H, W = img.shape\n",
        "    img = img.view(1, C, H, W)\n",
        "    return img\n",
        "\n",
        "def preprocess2(img):\n",
        "    img = cv2.normalize(img.astype('float'), None, 0.0, 1.0, cv2.NORM_MINMAX)\n",
        "    # img = cv2.resize(img, (int(img.shape[1]/3), int(img.shape[0]/3)), interpolation = cv2.INTER_CUBIC)\n",
        "    # img = cv2.resize(img, (int(img.shape[1]/3), int(img.shape[0]/3)), interpolation = cv2.INTER_CUBIC)\n",
        "    img = np.maximum(np.minimum(img, 1),0)\n",
        "    img = np.asarray(img)\n",
        "    img = torch.from_numpy(img)\n",
        "    img = img.permute(2,0,1)\n",
        "    img = img.to(device)\n",
        "    img = img.float()\n",
        "    C, H, W = img.shape\n",
        "    img = img.view(1, C, H, W)\n",
        "    return img\n",
        "\n",
        "def normalize(img):\n",
        "    img = img.squeeze()\n",
        "    img = img.detach().cpu().numpy()\n",
        "    img = img.transpose(1,2,0)\n",
        "    # img = (img-np.min(img, axis=2)[:,:,np.newaxis]) / (np.max(img, axis=2)[:,:,np.newaxis]-np.min(img, axis=2)[:,:,np.newaxis])\n",
        "    img = img / np.linalg.norm(img, axis=(2), keepdims=True)\n",
        "    return img\n",
        "\n",
        "def make_colorwheel():\n",
        "    '''\n",
        "    Generates a color wheel for optical flow visualization as presented in:\n",
        "        Baker et al. \"A Database and Evaluation Methodology for Optical Flow\" (ICCV, 2007)\n",
        "        URL: http://vision.middlebury.edu/flow/flowEval-iccv07.pdf\n",
        "    According to the C++ source code of Daniel Scharstein\n",
        "    According to the Matlab source code of Deqing Sun\n",
        "    '''\n",
        "\n",
        "    RY = 15\n",
        "    YG = 6\n",
        "    GC = 4\n",
        "    CB = 11\n",
        "    BM = 13\n",
        "    MR = 6\n",
        "\n",
        "    ncols = RY + YG + GC + CB + BM + MR\n",
        "    colorwheel = np.zeros((ncols, 3))\n",
        "    col = 0\n",
        "\n",
        "    # RY\n",
        "    colorwheel[0:RY, 0] = 255\n",
        "    colorwheel[0:RY, 1] = np.floor(255*np.arange(0,RY)/RY)\n",
        "    col = col+RY\n",
        "    # YG\n",
        "    colorwheel[col:col+YG, 0] = 255 - np.floor(255*np.arange(0,YG)/YG)\n",
        "    colorwheel[col:col+YG, 1] = 255\n",
        "    col = col+YG\n",
        "    # GC\n",
        "    colorwheel[col:col+GC, 1] = 255\n",
        "    colorwheel[col:col+GC, 2] = np.floor(255*np.arange(0,GC)/GC)\n",
        "    col = col+GC\n",
        "    # CB\n",
        "    colorwheel[col:col+CB, 1] = 255 - np.floor(255*np.arange(CB)/CB)\n",
        "    colorwheel[col:col+CB, 2] = 255\n",
        "    col = col+CB\n",
        "    # BM\n",
        "    colorwheel[col:col+BM, 2] = 255\n",
        "    colorwheel[col:col+BM, 0] = np.floor(255*np.arange(0,BM)/BM)\n",
        "    col = col+BM\n",
        "    # MR\n",
        "    colorwheel[col:col+MR, 2] = 255 - np.floor(255*np.arange(MR)/MR)\n",
        "    colorwheel[col:col+MR, 0] = 255\n",
        "    return colorwheel\n",
        "\n",
        "\n",
        "def flow_compute_color(u, v, convert_to_bgr=False):\n",
        "    '''\n",
        "    Applies the flow color wheel to (possibly clipped) flow components u and v.\n",
        "    According to the C++ source code of Daniel Scharstein\n",
        "    According to the Matlab source code of Deqing Sun\n",
        "    :param u: np.ndarray, input horizontal flow\n",
        "    :param v: np.ndarray, input vertical flow\n",
        "    :param convert_to_bgr: bool, whether to change ordering and output BGR instead of RGB\n",
        "    :return:\n",
        "    '''\n",
        "\n",
        "    flow_image = np.zeros((u.shape[0], u.shape[1], 3), np.uint8)\n",
        "\n",
        "    colorwheel = make_colorwheel()  # shape [55x3]\n",
        "    ncols = colorwheel.shape[0]\n",
        "\n",
        "    rad = np.sqrt(np.square(u) + np.square(v))\n",
        "    a = np.arctan2(-v, -u)/np.pi\n",
        "\n",
        "    fk = (a+1) / 2*(ncols-1)\n",
        "    k0 = np.floor(fk).astype(np.int32)\n",
        "    k1 = k0 + 1\n",
        "    k1[k1 == ncols] = 0\n",
        "    f = fk - k0\n",
        "\n",
        "    for i in range(colorwheel.shape[1]):\n",
        "        tmp = colorwheel[:,i]\n",
        "        col0 = tmp[k0] / 255.0\n",
        "        col1 = tmp[k1] / 255.0\n",
        "        col = (1-f)*col0 + f*col1\n",
        "\n",
        "        idx = (rad <= 1)\n",
        "        col[idx]  = 1 - rad[idx] * (1-col[idx])\n",
        "        col[~idx] = col[~idx] * 0.75   # out of range?\n",
        "\n",
        "        # Note the 2-i => BGR instead of RGB\n",
        "        ch_idx = 2-i if convert_to_bgr else i\n",
        "        flow_image[:,:,ch_idx] = np.floor(255 * col)\n",
        "\n",
        "    return flow_image\n",
        "\n",
        "\n",
        "def flow_to_color(flow_uv, clip_flow=None, convert_to_bgr=False):\n",
        "    '''\n",
        "    Expects a two dimensional flow image of shape [H,W,2]\n",
        "    According to the C++ source code of Daniel Scharstein\n",
        "    According to the Matlab source code of Deqing Sun\n",
        "    :param flow_uv: np.ndarray of shape [H,W,2]\n",
        "    :param clip_flow: float, maximum clipping value for flow\n",
        "    :return:\n",
        "    '''\n",
        "\n",
        "    assert flow_uv.ndim == 3, 'input flow must have three dimensions'\n",
        "    assert flow_uv.shape[2] == 2, 'input flow must have shape [H,W,2]'\n",
        "\n",
        "    if clip_flow is not None:\n",
        "        flow_uv = np.clip(flow_uv, 0, clip_flow)\n",
        "\n",
        "    u = flow_uv[:,:,0]\n",
        "    v = flow_uv[:,:,1]\n",
        "\n",
        "    rad = np.sqrt(np.square(u) + np.square(v))\n",
        "    rad_max = np.max(rad)\n",
        "\n",
        "    epsilon = 1e-5\n",
        "    u = u / (rad_max + epsilon)\n",
        "    v = v / (rad_max + epsilon)\n",
        "\n",
        "    return flow_compute_color(u, v, convert_to_bgr)"
      ],
      "execution_count": 0,
      "outputs": []
    },
    {
      "cell_type": "markdown",
      "metadata": {
        "colab_type": "text",
        "id": "MVI_NQvDEk1A"
      },
      "source": [
        "#WTA flow\n"
      ]
    },
    {
      "cell_type": "code",
      "metadata": {
        "id": "q0UeMrvn10dl",
        "colab_type": "code",
        "colab": {}
      },
      "source": [
        "%matplotlib inline\n",
        "import cv2\n",
        "import scipy.ndimage\n",
        "from scipy import signal\n",
        "import numpy as np\n",
        "import matplotlib.pyplot as plt\n",
        "from google.colab.patches import cv2_imshow\n",
        "import imageio\n",
        "import time"
      ],
      "execution_count": 0,
      "outputs": []
    },
    {
      "cell_type": "code",
      "metadata": {
        "id": "QXJwTrdS2gOi",
        "colab_type": "code",
        "colab": {}
      },
      "source": [
        "def wtaflow(feat1, feat2, max_offset):\n",
        "    '''\n",
        "    Input:\n",
        "    im1, im2: M*N*C images\n",
        "    feat1, feat2: M*N*D np arrays; normalized\n",
        "    max_offset: int; r_max; max_disp/ratio\n",
        "    \n",
        "    Output:\n",
        "    forward, backward: M*N*2 np arrays\n",
        "\n",
        "    Example:\n",
        "    forward[:,:,0] = u\n",
        "    forward[:,:,1] = v\n",
        "    '''\n",
        "    M, N, D = feat1.shape\n",
        "    L = 2*max_offset+1\n",
        "    #L = L**2\n",
        "    # matching, compute costs\n",
        "    # unary1, unary2 = matching(feat1, feat2, L, max_offset)\n",
        "\n",
        "    # WTA\n",
        "    forward = np.zeros((M,N,2))\n",
        "    backward = np.zeros((M,N,2))\n",
        "\n",
        "    # optimize with tensordot\n",
        "    feat1_d = np.zeros((M+2*max_offset, N+2*max_offset, D))\n",
        "    feat2_d = np.zeros((M+2*max_offset, N+2*max_offset, D))\n",
        "    feat1_d[max_offset:-max_offset,max_offset:-max_offset,:] = feat1\n",
        "    feat2_d[max_offset:-max_offset,max_offset:-max_offset,:] = feat2\n",
        "\n",
        "    f1 = torch.from_numpy(feat1_d).to(torch.device('cuda:0'))\n",
        "    f2 = torch.from_numpy(feat2_d).to(torch.device('cuda:0'))\n",
        "    for x in range(M):\n",
        "        for y in range(N):\n",
        "            unary1 = 1 - torch.mv(f2[x:x+L, y:y+L, :].reshape((L*L, -1)), f1[x+max_offset, y+max_offset, :])\n",
        "            unary2 = 1 - torch.mv(f1[x:x+L, y:y+L, :].reshape((L*L, -1)), f2[x+max_offset, y+max_offset, :])\n",
        "            \n",
        "            fw = np.argmin(unary1.cpu().numpy())\n",
        "            bw = np.argmin(unary2.cpu().numpy())\n",
        "            forward[x,y,::-1] = np.unravel_index(fw, (L,L))\n",
        "            backward[x,y,::-1] = np.unravel_index(bw, (L,L))\n",
        "    forward -= max_offset\n",
        "    backward -= max_offset\n",
        "    # forward[:,:,0] = signal.medfilt2d(forward[:,:,0], (11, 11))\n",
        "    # forward[:,:,1] = signal.medfilt2d(forward[:,:,1], (11, 11))\n",
        "\n",
        "    return forward, backward\n"
      ],
      "execution_count": 0,
      "outputs": []
    },
    {
      "cell_type": "code",
      "metadata": {
        "id": "uBLGZlcQnY0d",
        "colab_type": "code",
        "colab": {}
      },
      "source": [
        "def readFlow(fn):\n",
        "    \"\"\" Read .flo file in Middlebury format\"\"\"\n",
        "    # Code adapted from:\n",
        "    # http://stackoverflow.com/questions/28013200/reading-middlebury-flow-files-with-python-bytes-array-numpy\n",
        "\n",
        "    # WARNING: this will work on little-endian architectures (eg Intel x86) only!\n",
        "    # print 'fn = %s'%(fn)\n",
        "    with open(fn, 'rb') as f:\n",
        "        magic = np.fromfile(f, np.float32, count=1)\n",
        "        if 202021.25 != magic:\n",
        "            print('Magic number incorrect. Invalid .flo file')\n",
        "            return None\n",
        "        else:\n",
        "            w = np.fromfile(f, np.int32, count=1)\n",
        "            h = np.fromfile(f, np.int32, count=1)\n",
        "            # print 'Reading %d x %d flo file\\n' % (w, h)\n",
        "            data = np.fromfile(f, np.float32, count=2*int(w)*int(h))\n",
        "            # Reshape data into 3D array (columns, rows, bands)\n",
        "            # The reshape here is for visualization, the original code is (w,h,2)\n",
        "            return np.resize(data, (int(h), int(w), 2))\n",
        "def acc(u, v, ug, vg, thres=1):\n",
        "    M,N = u.shape\n",
        "    tempu = u - ug\n",
        "    tempv = v - vg\n",
        "    err = np.sqrt(tempu**2 + tempv**2)\n",
        "    err[err > thres] = 0.0\n",
        "    err[err > 0]= 1\n",
        "    acc = np.sum(err) / (M*N)\n",
        "    return acc"
      ],
      "execution_count": 0,
      "outputs": []
    },
    {
      "cell_type": "markdown",
      "metadata": {
        "id": "dZ4Cb8EKZDPw",
        "colab_type": "text"
      },
      "source": [
        "#Eval"
      ]
    },
    {
      "cell_type": "code",
      "metadata": {
        "id": "9xf_4adLeWwX",
        "colab_type": "code",
        "outputId": "4ce0d418-33cc-4b42-c519-1558d925cdc6",
        "colab": {
          "base_uri": "https://localhost:8080/",
          "height": 33
        }
      },
      "source": [
        "import glob\n",
        "import numpy as np\n",
        "import matplotlib.pyplot as pl\n",
        "files = glob.glob('*.flo')\n",
        "files\n"
      ],
      "execution_count": 0,
      "outputs": [
        {
          "output_type": "execute_result",
          "data": {
            "text/plain": [
              "['frame_0001.flo', 'frame_0030.flo']"
            ]
          },
          "metadata": {
            "tags": []
          },
          "execution_count": 147
        }
      ]
    },
    {
      "cell_type": "code",
      "metadata": {
        "id": "oduSe0omaQQH",
        "colab_type": "code",
        "colab": {}
      },
      "source": [
        "PATH = '/content/drive/My Drive/Weight2/dcflow_state_dict_ep30_200k_normed.pth'\n",
        "model = dcflow()\n",
        "model = model.to(device)\n",
        "model.load_state_dict(torch.load(PATH))\n",
        "model.eval()\n",
        "# load images\n",
        "# img1 = cv2.cvtColor(cv2.imread('car1.jpg'),cv2.COLOR_BGR2RGB)\n",
        "# img2 = cv2.cvtColor(cv2.imread('car2.jpg'),cv2.COLOR_BGR2RGB)\n",
        "\n",
        "img1 = cv2.cvtColor(cv2.imread('frame_0001.png'),cv2.COLOR_BGR2RGB)\n",
        "img2 = cv2.cvtColor(cv2.imread('frame_0002.png'),cv2.COLOR_BGR2RGB)\n",
        "\n",
        "img1n = preprocess2(img1)\n",
        "img2n = preprocess2(img2)\n",
        "\n",
        "img1n = model(img1n)\n",
        "img2n = model(img2n)\n",
        "\n",
        "img1n = normalize(img1n)\n",
        "img2n = normalize(img2n)"
      ],
      "execution_count": 0,
      "outputs": []
    },
    {
      "cell_type": "code",
      "metadata": {
        "id": "5Vl5yMzkZNaC",
        "colab_type": "code",
        "outputId": "523606ce-8a9e-444e-efe4-9883c6ab0914",
        "colab": {
          "base_uri": "https://localhost:8080/",
          "height": 223
        }
      },
      "source": [
        "m_offset = 80\n",
        "f, b = wtaflow(img1n,img2n,m_offset)\n",
        "medfiltSize = 31\n",
        "u1 = signal.medfilt2d(f[:,:,0], (medfiltSize, medfiltSize))\n",
        "v1 = signal.medfilt2d(f[:,:,1], (medfiltSize, medfiltSize))\n",
        "# optical flow visualization\n",
        "result = flow_to_color(np.array([u1, v1]).transpose(1,2,0))\n",
        "plt.figure()\n",
        "plt.title(\"Our Method\")\n",
        "plt.imshow(result)"
      ],
      "execution_count": 0,
      "outputs": [
        {
          "output_type": "execute_result",
          "data": {
            "text/plain": [
              "<matplotlib.image.AxesImage at 0x7efd5dcd26a0>"
            ]
          },
          "metadata": {
            "tags": []
          },
          "execution_count": 154
        },
        {
          "output_type": "display_data",
          "data": {
            "image/png": "[encoded data removed]",
            "text/plain": [
              "<Figure size 432x288 with 1 Axes>"
            ]
          },
          "metadata": {
            "tags": [],
            "needs_background": "light"
          }
        }
      ]
    },
    {
      "cell_type": "code",
      "metadata": {
        "id": "Ict0Fl2DnpHc",
        "colab_type": "code",
        "outputId": "e6b18d8e-4577-408f-f332-20ed00ef688e",
        "colab": {
          "base_uri": "https://localhost:8080/",
          "height": 240
        }
      },
      "source": [
        "files = glob.glob('*.flo')\n",
        "print(files)\n",
        "GTflow = readFlow('frame_0001.flo')\n",
        "ug = GTflow[:,:,0]\n",
        "vg = GTflow[:,:,1]\n",
        "result = flow_to_color(np.array([ug, vg]).transpose(1,2,0))\n",
        "plt.title(\"GT-Flow\")\n",
        "plt.imshow(result)"
      ],
      "execution_count": 0,
      "outputs": [
        {
          "output_type": "stream",
          "text": [
            "['frame_0001.flo', 'frame_0030.flo']\n"
          ],
          "name": "stdout"
        },
        {
          "output_type": "execute_result",
          "data": {
            "text/plain": [
              "<matplotlib.image.AxesImage at 0x7efd5a580978>"
            ]
          },
          "metadata": {
            "tags": []
          },
          "execution_count": 155
        },
        {
          "output_type": "display_data",
          "data": {
            "image/png": "[encoded data removed]",
            "text/plain": [
              "<Figure size 432x288 with 1 Axes>"
            ]
          },
          "metadata": {
            "tags": [],
            "needs_background": "light"
          }
        }
      ]
    },
    {
      "cell_type": "code",
      "metadata": {
        "id": "nc88PEyowED-",
        "colab_type": "code",
        "outputId": "d551aa5a-718c-4fdd-cae4-f252a75d53da",
        "colab": {
          "base_uri": "https://localhost:8080/",
          "height": 33
        }
      },
      "source": [
        "acc_list = [acc(u1, v1, ug, vg, i) for i in [0.5, 0.7, 1, 1.5, 2]]\n",
        "print(acc_list)"
      ],
      "execution_count": 0,
      "outputs": [
        {
          "output_type": "stream",
          "text": [
            "[0.6877262220470184, 0.7085476096616973, 0.7455024369266054, 0.7829612241972477, 0.7986287808199541]\n"
          ],
          "name": "stdout"
        }
      ]
    },
    {
      "cell_type": "markdown",
      "metadata": {
        "id": "zma7g0Q7WaNy",
        "colab_type": "text"
      },
      "source": [
        "#SGM"
      ]
    },
    {
      "cell_type": "code",
      "metadata": {
        "id": "oyjzjfOMiTIC",
        "colab_type": "code",
        "colab": {}
      },
      "source": [
        "def sgmflow(im1, im2, feat1, feat2, max_offset, wta=False):\n",
        "    '''\n",
        "    Input:\n",
        "    im1, im2: M*N*C images\n",
        "    feat1, feat2: M*N*D np arrays; normalized\n",
        "    max_offset: int; r_max; max_disp/ratio\n",
        "    \n",
        "    Output:\n",
        "    forward, backward: M*N*2 np arrays\n",
        "\n",
        "    Example:\n",
        "    forward[:,:,0] = u\n",
        "    forward[:,:,1] = v\n",
        "    '''\n",
        "    M, N, C = im1.shape\n",
        "    D = feat1.shape[2]\n",
        "    L = 2*max_offset+1\n",
        "    # L = L**2\n",
        "\n",
        "    forward = np.zeros((M,N,2))\n",
        "    backward = np.zeros((M,N,2))\n",
        "\n",
        "    t0 = time.time()\n",
        "    # compute cost volume\n",
        "    print(\"Computing cost volumes...\")\n",
        "    unary1, unary2 = matching(feat1, feat2, L, max_offset)\n",
        "\n",
        "    t1 = time.time()\n",
        "    print(\"Time: \", int(t1 - t0), \" sec\")\n",
        "\n",
        "    # forward\n",
        "    # cost aggrecation\n",
        "    print(\"Forward: aggregating costs...\")\n",
        "    aggre1 = cost_aggregation(np.sum(im1,axis=2)/3, unary1, L, max_offset)    \n",
        "    \n",
        "    t2 = time.time()\n",
        "    print(\"Time: \", int(t2 - t1), \" sec\")\n",
        "    # select disparities\n",
        "    disp1 = np.argmin(aggre1, axis=2)\n",
        "    for x in range(M):\n",
        "        for y in range(N):\n",
        "            forward[x, y, ::-1] = np.unravel_index(disp1[x, y], (L,L))\n",
        "    \n",
        "    del unary1 \n",
        "    del aggre1\n",
        "\n",
        "    t2 = time.time()\n",
        "    # backward\n",
        "    # cost aggrecation\n",
        "    print(\"Backward: aggregating costs...\")\n",
        "    aggre2 = cost_aggregation(np.sum(im2,axis=2)/3, unary2, L, max_offset)\n",
        "    \n",
        "    t3 = time.time()\n",
        "    print(\"Time: \", int(t3 - t2), \" sec\")\n",
        "    # select disparities\n",
        "    disp2 = np.argmin(aggre2, axis=2)\n",
        "    for x in range(M):\n",
        "        for y in range(N):\n",
        "            backward[x, y, ::-1] = np.unravel_index(disp2[x, y], (L,L))\n",
        "\n",
        "    del unary2\n",
        "    del aggre2 \n",
        "\n",
        "    # cv2.medianBlur or signal.medfilt2d\n",
        "    forward -= max_offset\n",
        "    backward -= max_offset\n",
        "    return forward, backward\n",
        "\n",
        "def matching(feat1, feat2, L, max_offset):\n",
        "    '''\n",
        "    Return:\n",
        "    unary1, unary2: M*N*L^2 np arrays\n",
        "    max_offset = r_max: int\n",
        "    '''\n",
        "    M, N, D = feat1.shape\n",
        "    feat1_d = np.zeros((M+2*max_offset, N+2*max_offset, D))\n",
        "    feat2_d = np.zeros((M+2*max_offset, N+2*max_offset, D))\n",
        "    feat1_d[max_offset:-max_offset,max_offset:-max_offset,:] = feat1\n",
        "    feat2_d[max_offset:-max_offset,max_offset:-max_offset,:] = feat2\n",
        "\n",
        "    f1 = torch.from_numpy(feat1_d).to(torch.device('cuda:0'))\n",
        "    f2 = torch.from_numpy(feat2_d).to(torch.device('cuda:0'))\n",
        "    del feat1_d\n",
        "    del feat2_d\n",
        "\n",
        "    unary1 = np.zeros((M,N,L**2), dtype=np.uint8) # \n",
        "    unary2 = np.zeros((M,N,L**2), dtype=np.uint8)\n",
        "    for x in range(M):\n",
        "        for y in range(N):\n",
        "            u1 = 1 - torch.mv(f2[x:x+L, y:y+L, :].reshape((L*L, -1)), f1[x+max_offset, y+max_offset, :])\n",
        "            u2 = 1 - torch.mv(f1[x:x+L, y:y+L, :].reshape((L*L, -1)), f2[x+max_offset, y+max_offset, :])\n",
        "            unary1[x, y, :] = u1.cpu().numpy() * 127\n",
        "            unary2[x, y, :] = u2.cpu().numpy() * 127\n",
        "            #unary1[x, y, :, :] = u1.reshape((L, L)).cpu().numpy() * 127\n",
        "            #unary2[x, y, :, :] = u2.reshape((L, L)).cpu().numpy() * 127\n",
        "    del f1\n",
        "    del f2\n",
        "    return unary1, unary2\n",
        "\n",
        "def cost_aggregation(im, unary, L, max_offset, P1 = 7, P2 = 485):\n",
        "    '''\n",
        "    Return:\n",
        "    aggrecation_cost_volume: H*W*L^2 np array\n",
        "    '''\n",
        "    M, N, l1 = unary.shape\n",
        "    L2 = L**2\n",
        "    # paths = [(-1,0), (1,0), (0,-1), (0,1)]\n",
        "    # aggregate costs\n",
        "            # disparity = np.zeros((M,N))\n",
        "            #cost_aggr_slice = np.zeros((L,L,4))\n",
        "    aggre_vol = np.zeros((M,N,L2), dtype=np.uint16)\n",
        "\n",
        "    aggre_tm1 = np.zeros((M,N,L2), dtype=np.uint16)  \n",
        "    aggre_tm2 = np.zeros((M,N,L2), dtype=np.uint16)\n",
        "    # cost_aggr_slice: L*L*4\n",
        "    for x in range(M):\n",
        "        # left\n",
        "        aggre_tm1[x,:,:] = path_cost(unary[x, :, :], im, P1, P2)\n",
        "        # right\n",
        "        aggre_tm2[x,:,:] = path_cost(unary[x, ::-1, :], im, P1, P2)\n",
        "\n",
        "    aggre_vol[:,:,:] += aggre_tm1\n",
        "    aggre_vol[:,:,:] += aggre_tm2\n",
        "\n",
        "    for y in range(N):\n",
        "        # up\n",
        "        aggre_tm1[:,y,:] = path_cost(unary[:, y, :], im, P1, P2)\n",
        "        # down\n",
        "        aggre_tm2[:,y,:] = path_cost(unary[::-1, y, :], im, P1, P2)\n",
        "\n",
        "    aggre_vol[:,:,:] += aggre_tm1\n",
        "    aggre_vol[:,:,:] += aggre_tm2\n",
        "\n",
        "    return aggre_vol\n",
        "\n",
        "def path_cost(vol_slice, im, P1, P2, offset = 1, direction = 'ud'):\n",
        "    '''\n",
        "    Input:\n",
        "    slice: M*D\n",
        "    im: M*N, grayscale\n",
        "    Return:\n",
        "    aggregation_volume_slice\n",
        "    '''\n",
        "    M, D = vol_slice.shape\n",
        "\n",
        "    disps = np.matlib.repmat(np.arange(D),D,1)\n",
        "    penas = np.zeros((D, D), dtype=vol_slice.dtype)\n",
        "    penas[np.abs(disps - disps.T) == 1] = P1\n",
        "    penas[np.abs(disps - disps.T) > 1] = P2 # \n",
        "    \n",
        "    min_cost_path = np.zeros((M, D), dtype=vol_slice.dtype)\n",
        "    min_cost_path[offset - 1, :] = vol_slice[offset - 1, :]\n",
        "\n",
        "    for i in range(offset, M):\n",
        "        prev = min_cost_path[i - 1, :]\n",
        "        curr = vol_slice[i, :]\n",
        "        costs = np.repeat(prev, repeats=D, axis=0).reshape(D, D)\n",
        "        costs = np.amin(costs + penas, axis=0)\n",
        "        min_cost_path[i, :] = curr + costs - np.amin(prev)\n",
        "\n",
        "    return min_cost_path  # aka aggregation_volume_slice\n"
      ],
      "execution_count": 0,
      "outputs": []
    },
    {
      "cell_type": "markdown",
      "metadata": {
        "id": "KD1VH2N1Ncqk",
        "colab_type": "text"
      },
      "source": [
        "#Match"
      ]
    },
    {
      "cell_type": "code",
      "metadata": {
        "id": "Y_RyeaLzNcad",
        "colab_type": "code",
        "colab": {}
      },
      "source": [
        "def filter_matches(forward, backward, ratio=3, threshold=0.8):\n",
        "    '''\n",
        "    not finishied yet\n",
        "    '''\n",
        "    M, N, _ = forward.shape\n",
        "    print('M =', M)\n",
        "    print('N =', N)\n",
        "    u = forward[:,:,0]\n",
        "    v = forward[:,:,1]\n",
        "    x1, y1 = np.meshgrid(np.arange(N), np.arange(M))\n",
        "    x2 = x1 + u\n",
        "    y2 = y1 + v\n",
        "\n",
        "    # out-of-boundary pixels\n",
        "    A = x2 >= N \n",
        "    C = x2 < 0 \n",
        "    D = y2 >= M \n",
        "    E = y2 < 0\n",
        "    B = np.logical_or.reduce((A, C, D, E))\n",
        "    # print('B', B)\n",
        "    x2[B] = x1[B]\n",
        "    y2[B] = y1[B]\n",
        "    # print('x2', x2)\n",
        "    # print(backward[:,:,0].shape)\n",
        "    # print('x1.shape', x1.shape)\n",
        "    # print('x2.shape', x2.shape)\n",
        "    fu = scipy.interpolate.interp2d(np.arange(N), np.arange(M), backward[:,:,0])\n",
        "    fv = scipy.interpolate.interp2d(np.arange(N), np.arange(M), backward[:,:,1])\n",
        "    inv_u = np.zeros_like(u)\n",
        "    inv_v = np.zeros_like(u)\n",
        "\n",
        "    count = np.zeros((M,N))\n",
        "    for i in range(M):\n",
        "        for j in range(N):\n",
        "            inv_u[i,j] = fu(x2[i,j] ,y2[i,j])\n",
        "            inv_v[i,j] = fv(x2[i,j] ,y2[i,j])\n",
        "            c1 = int (np.round(x2[i,j]))\n",
        "            r1 = int (np.round(y2[i,j]))\n",
        "            count[r1, c1] = count[r1, c1] + 1\n",
        "\n",
        "    occ = ((u+inv_u)**2 + (v+inv_v)**2) <= threshold\n",
        "    occ[B] = 0\n",
        "    occ[count>=2] = 0\n",
        "\n",
        "    return occ"
      ],
      "execution_count": 0,
      "outputs": []
    }
  ]
}